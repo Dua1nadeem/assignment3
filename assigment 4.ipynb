{
 "cells": [
  {
   "cell_type": "code",
   "execution_count": 1,
   "id": "1ba0ad90",
   "metadata": {},
   "outputs": [
    {
     "name": "stdout",
     "output_type": "stream",
     "text": [
      "make a calculator using python for addition,subtraction,multiplication and division\n",
      "enter first number :50\n",
      "enter second number :30\n",
      "operaion types\n",
      "+ for addition\n",
      "- for subtraction\n",
      "* for multiplication\n",
      "/ for division\n",
      "please enter any one of the above value :+\n",
      "result:80\n"
     ]
    }
   ],
   "source": [
    "print(\"make a calculator using python for addition,subtraction,multiplication and division\")\n",
    "# print(\"python calculator\")\n",
    "first_number =int(input(\"enter first number :\"))\n",
    "second_number =int(input(\"enter second number :\"))\n",
    "print(\"operaion types\")\n",
    "print(\"+ for addition\")\n",
    "print(\"- for subtraction\")\n",
    "print(\"* for multiplication\")\n",
    "print(\"/ for division\")\n",
    "operator = input(\"please enter any one of the above value :\")\n",
    "result = 0\n",
    "if operator == \"+\":\n",
    "   result = first_number + second_number\n",
    "if operator == \"-\":\n",
    "   result = first_number - second_number\n",
    "if operator == \"*\":\n",
    "   result = first_number * second_number\n",
    "if operator == \"/\":\n",
    "   result = first_number /second_number\n",
    "    \n",
    "print(f\"result:{result}\")"
   ]
  },
  {
   "cell_type": "code",
   "execution_count": 2,
   "id": "011fef8f",
   "metadata": {},
   "outputs": [
    {
     "name": "stdout",
     "output_type": "stream",
     "text": [
      "write a program to check if there is any numeric value in list using for loop\n",
      "Checking if 1 exists in list ( using loop ) : \n",
      "Element Exists\n",
      "Checking if 1 exists in list ( using in ) : \n",
      "Element Exists\n"
     ]
    }
   ],
   "source": [
    "print(\"write a program to check if there is any numeric value in list using for loop\")\n",
    "# using loops and in\n",
    " \n",
    "# Initializing list\n",
    "test_list = [ 1, 6, 3, 5, 3, 4 ]\n",
    " \n",
    "print(\"Checking if 1 exists in list ( using loop ) : \")\n",
    " \n",
    "# Checking if 4 exists in list\n",
    "# using loop\n",
    "for i in test_list:\n",
    "    if(i == 4) :\n",
    "        print (\"Element Exists\")\n",
    " \n",
    "print(\"Checking if 1 exists in list ( using in ) : \")\n",
    " \n",
    "# Checking if 1 exists in list\n",
    "# using in\n",
    "if (1 in test_list):\n",
    "    print (\"Element Exists\")"
   ]
  },
  {
   "cell_type": "code",
   "execution_count": 15,
   "id": "ff1b362e",
   "metadata": {},
   "outputs": [
    {
     "name": "stdout",
     "output_type": "stream",
     "text": [
      "1 a\n",
      "2 b\n",
      "3 c\n"
     ]
    }
   ],
   "source": [
    "print(\"write a python script to add a key to a dictionary\")\n",
    "a = {1:'a',2:'b',3:'c'}\n",
    "\n",
    "for key,value in a.items():\n",
    "    print(key, value)"
   ]
  },
  {
   "cell_type": "code",
   "execution_count": 3,
   "id": "a06cc05d",
   "metadata": {},
   "outputs": [
    {
     "name": "stdout",
     "output_type": "stream",
     "text": [
      "Total sum of values in the dictionary:\n",
      "910\n"
     ]
    }
   ],
   "source": [
    "print(\"write a program to summ all the numeric items in a dictionary\")\n",
    "dict={'A':10,'B':680,'C':220}\n",
    "print(\"Total sum of values in the dictionary:\")\n",
    "print(sum(dict.values()))"
   ]
  },
  {
   "cell_type": "code",
   "execution_count": 18,
   "id": "81ed40e2",
   "metadata": {},
   "outputs": [
    {
     "name": "stdout",
     "output_type": "stream",
     "text": [
      "2 2 3 4 5 "
     ]
    }
   ],
   "source": [
    "print(\"write a program to identify duplicates value from list\")\n",
    "l=[2,2,3,4,5,2,3,4,10,9,5]\n",
    "l1=[]\n",
    "for i in l:\n",
    "    if i not in l1:\n",
    "        l1.append(i)\n",
    "    else:\n",
    "        print(i,end=' ')"
   ]
  },
  {
   "cell_type": "code",
   "execution_count": null,
   "id": "ad317a43",
   "metadata": {},
   "outputs": [],
   "source": []
  },
  {
   "cell_type": "code",
   "execution_count": 4,
   "id": "f6e48d41",
   "metadata": {},
   "outputs": [
    {
     "name": "stdout",
     "output_type": "stream",
     "text": [
      "write a script to check if a given key already exist in a dictionary\n",
      "Dictionary :  {'a': 'apple', 'b': 'Banana', 'o': 'Orange', 'm': 'Mango'}\n",
      "Please enter the Key you want to search for: b\n",
      "\n",
      "Key Exists in this Dictionary\n",
      "Key =  b  and Value =  Banana\n"
     ]
    }
   ],
   "source": [
    "print(\"write a script to check if a given key already exist in a dictionary\")\n",
    "# Python Program to check if a Given key exists in a Dictionary\n",
    "\n",
    "myDict = {'a': 'apple', 'b': 'Banana' , 'o': 'Orange', 'm': 'Mango'}\n",
    "print(\"Dictionary : \", myDict)\n",
    "\n",
    "key = input(\"Please enter the Key you want to search for: \")\n",
    "\n",
    "# Check Whether the Given key exists in a Dictionary or Not\n",
    "if key in myDict:\n",
    "    print(\"\\nKey Exists in this Dictionary\")\n",
    "    print(\"Key = \", key, \" and Value = \", myDict[key])\n",
    "else:\n",
    "    print(\"\\nKey Does not Exists in this Dictionary\")"
   ]
  },
  {
   "cell_type": "code",
   "execution_count": null,
   "id": "73187051",
   "metadata": {},
   "outputs": [],
   "source": []
  },
  {
   "cell_type": "code",
   "execution_count": null,
   "id": "11c3fd4b",
   "metadata": {},
   "outputs": [],
   "source": []
  }
 ],
 "metadata": {
  "kernelspec": {
   "display_name": "Python 3",
   "language": "python",
   "name": "python3"
  },
  "language_info": {
   "codemirror_mode": {
    "name": "ipython",
    "version": 3
   },
   "file_extension": ".py",
   "mimetype": "text/x-python",
   "name": "python",
   "nbconvert_exporter": "python",
   "pygments_lexer": "ipython3",
   "version": "3.8.8"
  }
 },
 "nbformat": 4,
 "nbformat_minor": 5
}
